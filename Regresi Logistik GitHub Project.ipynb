{
 "cells": [
  {
   "cell_type": "code",
   "execution_count": 42,
   "id": "6ea5fde5",
   "metadata": {},
   "outputs": [],
   "source": [
    "import sklearn as skl"
   ]
  },
  {
   "cell_type": "code",
   "execution_count": 43,
   "id": "ad7cfdfa",
   "metadata": {},
   "outputs": [],
   "source": [
    "import csv"
   ]
  },
  {
   "cell_type": "code",
   "execution_count": 44,
   "id": "66505193",
   "metadata": {},
   "outputs": [],
   "source": [
    "import pandas as pd"
   ]
  },
  {
   "cell_type": "code",
   "execution_count": 45,
   "id": "c6dc0045",
   "metadata": {},
   "outputs": [],
   "source": [
    "#memanggil data yang ingin di analisis regresi logistik biner\n",
    "data= pd.read_csv('E:/Anggok/dataproject.csv', sep=';')"
   ]
  },
  {
   "cell_type": "code",
   "execution_count": 46,
   "id": "eea29f73",
   "metadata": {},
   "outputs": [
    {
     "name": "stdout",
     "output_type": "stream",
     "text": [
      "     gender  ice_cream  video  puzzle\n",
      "0         0          2     47      57\n",
      "1         1          1     63      61\n",
      "2         0          3     58      31\n",
      "3         0          3     53      56\n",
      "4         0          1     53      61\n",
      "..      ...        ...    ...     ...\n",
      "195       1          1     42      56\n",
      "196       1          1     36      46\n",
      "197       1          1     55      52\n",
      "198       1          1     58      61\n",
      "199       1          3     53      61\n",
      "\n",
      "[200 rows x 4 columns]\n"
     ]
    }
   ],
   "source": [
    "print(data)"
   ]
  },
  {
   "cell_type": "code",
   "execution_count": 47,
   "id": "15925b91",
   "metadata": {},
   "outputs": [
    {
     "data": {
      "text/html": [
       "<div>\n",
       "<style scoped>\n",
       "    .dataframe tbody tr th:only-of-type {\n",
       "        vertical-align: middle;\n",
       "    }\n",
       "\n",
       "    .dataframe tbody tr th {\n",
       "        vertical-align: top;\n",
       "    }\n",
       "\n",
       "    .dataframe thead th {\n",
       "        text-align: right;\n",
       "    }\n",
       "</style>\n",
       "<table border=\"1\" class=\"dataframe\">\n",
       "  <thead>\n",
       "    <tr style=\"text-align: right;\">\n",
       "      <th></th>\n",
       "      <th>gender</th>\n",
       "      <th>ice_cream</th>\n",
       "      <th>video</th>\n",
       "      <th>puzzle</th>\n",
       "    </tr>\n",
       "  </thead>\n",
       "  <tbody>\n",
       "    <tr>\n",
       "      <th>count</th>\n",
       "      <td>200.00000</td>\n",
       "      <td>200.000000</td>\n",
       "      <td>200.000000</td>\n",
       "      <td>200.000000</td>\n",
       "    </tr>\n",
       "    <tr>\n",
       "      <th>mean</th>\n",
       "      <td>0.54500</td>\n",
       "      <td>1.815000</td>\n",
       "      <td>51.850000</td>\n",
       "      <td>52.405000</td>\n",
       "    </tr>\n",
       "    <tr>\n",
       "      <th>std</th>\n",
       "      <td>0.49922</td>\n",
       "      <td>0.856999</td>\n",
       "      <td>9.900891</td>\n",
       "      <td>10.735793</td>\n",
       "    </tr>\n",
       "    <tr>\n",
       "      <th>min</th>\n",
       "      <td>0.00000</td>\n",
       "      <td>1.000000</td>\n",
       "      <td>26.000000</td>\n",
       "      <td>26.000000</td>\n",
       "    </tr>\n",
       "    <tr>\n",
       "      <th>25%</th>\n",
       "      <td>0.00000</td>\n",
       "      <td>1.000000</td>\n",
       "      <td>44.000000</td>\n",
       "      <td>46.000000</td>\n",
       "    </tr>\n",
       "    <tr>\n",
       "      <th>50%</th>\n",
       "      <td>1.00000</td>\n",
       "      <td>2.000000</td>\n",
       "      <td>53.000000</td>\n",
       "      <td>52.000000</td>\n",
       "    </tr>\n",
       "    <tr>\n",
       "      <th>75%</th>\n",
       "      <td>1.00000</td>\n",
       "      <td>3.000000</td>\n",
       "      <td>58.000000</td>\n",
       "      <td>61.000000</td>\n",
       "    </tr>\n",
       "    <tr>\n",
       "      <th>max</th>\n",
       "      <td>1.00000</td>\n",
       "      <td>3.000000</td>\n",
       "      <td>74.000000</td>\n",
       "      <td>71.000000</td>\n",
       "    </tr>\n",
       "  </tbody>\n",
       "</table>\n",
       "</div>"
      ],
      "text/plain": [
       "          gender   ice_cream       video      puzzle\n",
       "count  200.00000  200.000000  200.000000  200.000000\n",
       "mean     0.54500    1.815000   51.850000   52.405000\n",
       "std      0.49922    0.856999    9.900891   10.735793\n",
       "min      0.00000    1.000000   26.000000   26.000000\n",
       "25%      0.00000    1.000000   44.000000   46.000000\n",
       "50%      1.00000    2.000000   53.000000   52.000000\n",
       "75%      1.00000    3.000000   58.000000   61.000000\n",
       "max      1.00000    3.000000   74.000000   71.000000"
      ]
     },
     "execution_count": 47,
     "metadata": {},
     "output_type": "execute_result"
    }
   ],
   "source": [
    "#melihat summary data\n",
    "data.describe()"
   ]
  },
  {
   "cell_type": "code",
   "execution_count": 48,
   "id": "149f8ab1",
   "metadata": {},
   "outputs": [
    {
     "data": {
      "text/plain": [
       "gender       0\n",
       "ice_cream    0\n",
       "video        0\n",
       "puzzle       0\n",
       "dtype: int64"
      ]
     },
     "execution_count": 48,
     "metadata": {},
     "output_type": "execute_result"
    }
   ],
   "source": [
    "#check data kosong\n",
    "data.isnull().sum()"
   ]
  },
  {
   "cell_type": "code",
   "execution_count": 49,
   "id": "10477c0c",
   "metadata": {},
   "outputs": [
    {
     "data": {
      "text/plain": [
       "1    109\n",
       "0     91\n",
       "Name: gender, dtype: int64"
      ]
     },
     "execution_count": 49,
     "metadata": {},
     "output_type": "execute_result"
    }
   ],
   "source": [
    "#melihat proporsi data gender\n",
    "data['gender'].value_counts()"
   ]
  },
  {
   "cell_type": "code",
   "execution_count": 50,
   "id": "d2975923",
   "metadata": {},
   "outputs": [],
   "source": [
    "import sklearn.model_selection as ms"
   ]
  },
  {
   "cell_type": "code",
   "execution_count": 51,
   "id": "467a3d5e",
   "metadata": {},
   "outputs": [],
   "source": [
    "#mendefinisikan variabel respon dan variabel predictor\n",
    "X= data[['ice_cream','video','puzzle']]\n",
    "y= data.gender"
   ]
  },
  {
   "cell_type": "code",
   "execution_count": 52,
   "id": "52755b75",
   "metadata": {},
   "outputs": [],
   "source": [
    "#data testing dan data training dengan library\n",
    "X_train, X_test, y_train, y_test = ms.train_test_split(X,y,test_size=0.2,random_state=0)"
   ]
  },
  {
   "cell_type": "code",
   "execution_count": 53,
   "id": "bd4b4243",
   "metadata": {},
   "outputs": [],
   "source": [
    "import sklearn.linear_model as lm"
   ]
  },
  {
   "cell_type": "code",
   "execution_count": 54,
   "id": "45bbea64",
   "metadata": {},
   "outputs": [],
   "source": [
    "#membangun model regresi logististik biner\n",
    "model= lm.LogisticRegression (solver='lbfgs')"
   ]
  },
  {
   "cell_type": "code",
   "execution_count": 55,
   "id": "edb582a2",
   "metadata": {},
   "outputs": [
    {
     "data": {
      "text/plain": [
       "LogisticRegression()"
      ]
     },
     "execution_count": 55,
     "metadata": {},
     "output_type": "execute_result"
    }
   ],
   "source": [
    "model.fit(X_train, y_train)"
   ]
  },
  {
   "cell_type": "code",
   "execution_count": 56,
   "id": "46113dd4",
   "metadata": {},
   "outputs": [
    {
     "name": "stdout",
     "output_type": "stream",
     "text": [
      "[[ 0.11405547 -0.03395724  0.03489613]]\n"
     ]
    }
   ],
   "source": [
    "#Koefisien regresi logistik\n",
    "print(model.coef_)"
   ]
  },
  {
   "cell_type": "code",
   "execution_count": 57,
   "id": "aad668c4",
   "metadata": {},
   "outputs": [],
   "source": [
    "y_prediksi= model.predict(X_test)"
   ]
  },
  {
   "cell_type": "code",
   "execution_count": 58,
   "id": "77025a97",
   "metadata": {},
   "outputs": [
    {
     "name": "stdout",
     "output_type": "stream",
     "text": [
      "[1 0 0 1 0 1 0 0 1 1 1 1 1 1 1 0 0 1 1 0 1 1 0 1 1 0 0 1 1 1 1 1 1 1 1 1 1\n",
      " 1 0 1]\n"
     ]
    }
   ],
   "source": [
    "print(y_prediksi)"
   ]
  },
  {
   "cell_type": "code",
   "execution_count": 59,
   "id": "6a680beb",
   "metadata": {},
   "outputs": [
    {
     "data": {
      "text/html": [
       "<div>\n",
       "<style scoped>\n",
       "    .dataframe tbody tr th:only-of-type {\n",
       "        vertical-align: middle;\n",
       "    }\n",
       "\n",
       "    .dataframe tbody tr th {\n",
       "        vertical-align: top;\n",
       "    }\n",
       "\n",
       "    .dataframe thead th {\n",
       "        text-align: right;\n",
       "    }\n",
       "</style>\n",
       "<table border=\"1\" class=\"dataframe\">\n",
       "  <thead>\n",
       "    <tr style=\"text-align: right;\">\n",
       "      <th></th>\n",
       "      <th>ice_cream</th>\n",
       "      <th>video</th>\n",
       "      <th>puzzle</th>\n",
       "    </tr>\n",
       "  </thead>\n",
       "  <tbody>\n",
       "    <tr>\n",
       "      <th>18</th>\n",
       "      <td>3</td>\n",
       "      <td>55</td>\n",
       "      <td>61</td>\n",
       "    </tr>\n",
       "    <tr>\n",
       "      <th>170</th>\n",
       "      <td>2</td>\n",
       "      <td>50</td>\n",
       "      <td>43</td>\n",
       "    </tr>\n",
       "    <tr>\n",
       "      <th>107</th>\n",
       "      <td>2</td>\n",
       "      <td>51</td>\n",
       "      <td>33</td>\n",
       "    </tr>\n",
       "    <tr>\n",
       "      <th>98</th>\n",
       "      <td>2</td>\n",
       "      <td>39</td>\n",
       "      <td>41</td>\n",
       "    </tr>\n",
       "    <tr>\n",
       "      <th>177</th>\n",
       "      <td>1</td>\n",
       "      <td>53</td>\n",
       "      <td>41</td>\n",
       "    </tr>\n",
       "  </tbody>\n",
       "</table>\n",
       "</div>"
      ],
      "text/plain": [
       "     ice_cream  video  puzzle\n",
       "18           3     55      61\n",
       "170          2     50      43\n",
       "107          2     51      33\n",
       "98           2     39      41\n",
       "177          1     53      41"
      ]
     },
     "execution_count": 59,
     "metadata": {},
     "output_type": "execute_result"
    }
   ],
   "source": [
    "X_test.head()"
   ]
  },
  {
   "cell_type": "code",
   "execution_count": 60,
   "id": "4d69c448",
   "metadata": {},
   "outputs": [
    {
     "data": {
      "text/plain": [
       "18    0\n",
       "Name: gender, dtype: int64"
      ]
     },
     "execution_count": 60,
     "metadata": {},
     "output_type": "execute_result"
    }
   ],
   "source": [
    "y_test.head(1)"
   ]
  },
  {
   "cell_type": "code",
   "execution_count": 61,
   "id": "50016a8f",
   "metadata": {},
   "outputs": [],
   "source": [
    "import sklearn.metrics as met"
   ]
  },
  {
   "cell_type": "code",
   "execution_count": 62,
   "id": "f1054bdc",
   "metadata": {},
   "outputs": [],
   "source": [
    "#mengukur kinerja model\n",
    "confusionmatrix = met.confusion_matrix(y_test,y_prediksi)"
   ]
  },
  {
   "cell_type": "code",
   "execution_count": 63,
   "id": "d008bc19",
   "metadata": {},
   "outputs": [
    {
     "name": "stdout",
     "output_type": "stream",
     "text": [
      "[[ 6 11]\n",
      " [ 6 17]]\n"
     ]
    }
   ],
   "source": [
    "#membentuk matrix\n",
    "print(confusionmatrix)"
   ]
  },
  {
   "cell_type": "code",
   "execution_count": 64,
   "id": "65af4668",
   "metadata": {},
   "outputs": [
    {
     "name": "stdout",
     "output_type": "stream",
     "text": [
      "0.575\n"
     ]
    }
   ],
   "source": [
    "#nilai kinerja model\n",
    "score= model.score(X_test, y_test)\n",
    "print(score)"
   ]
  },
  {
   "cell_type": "code",
   "execution_count": 65,
   "id": "add4f7de",
   "metadata": {},
   "outputs": [
    {
     "name": "stdout",
     "output_type": "stream",
     "text": [
      "0.6071428571428571\n"
     ]
    }
   ],
   "source": [
    "precision = met.precision_score(y_test, y_prediksi)\n",
    "print(precision)"
   ]
  },
  {
   "cell_type": "code",
   "execution_count": 66,
   "id": "b44dffa5",
   "metadata": {},
   "outputs": [
    {
     "name": "stdout",
     "output_type": "stream",
     "text": [
      "0.5460358056265984\n"
     ]
    }
   ],
   "source": [
    "auc = met.roc_auc_score(y_test, y_prediksi)\n",
    "print(auc)"
   ]
  },
  {
   "cell_type": "code",
   "execution_count": 67,
   "id": "3ffe8572",
   "metadata": {},
   "outputs": [],
   "source": [
    "import matplotlib.pyplot as plt"
   ]
  },
  {
   "cell_type": "code",
   "execution_count": 68,
   "id": "37c42125",
   "metadata": {},
   "outputs": [
    {
     "data": {
      "image/png": "[encoded data removed]",
      "text/plain": [
       "<Figure size 432x288 with 1 Axes>"
      ]
     },
     "metadata": {
      "needs_background": "light"
     },
     "output_type": "display_data"
    }
   ],
   "source": [
    "#Grafik ROC \n",
    "y_pred_proba = model.predict_proba(X_test)[::,1] \n",
    "fp,tp, _ = met.roc_curve(y_test, y_pred_proba)\n",
    "auc = met.roc_auc_score(y_test, y_pred_proba)\n",
    "plt.plot(fp, tp, label='data 1, auc='+str(auc))\n",
    "plt.legend(loc=4)\n",
    "plt.show()"
   ]
  },
  {
   "cell_type": "code",
   "execution_count": null,
   "id": "20d1af4f",
   "metadata": {},
   "outputs": [],
   "source": []
  }
 ],
 "metadata": {
  "kernelspec": {
   "display_name": "Python 3",
   "language": "python",
   "name": "python3"
  },
  "language_info": {
   "codemirror_mode": {
    "name": "ipython",
    "version": 3
   },
   "file_extension": ".py",
   "mimetype": "text/x-python",
   "name": "python",
   "nbconvert_exporter": "python",
   "pygments_lexer": "ipython3",
   "version": "3.8.8"
  }
 },
 "nbformat": 4,
 "nbformat_minor": 5
}
